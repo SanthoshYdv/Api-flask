{
 "cells": [
  {
   "cell_type": "code",
   "execution_count": 1,
   "metadata": {},
   "outputs": [],
   "source": [
    "#!pip install flask"
   ]
  },
  {
   "cell_type": "code",
   "execution_count": 2,
   "metadata": {},
   "outputs": [],
   "source": [
    "#!pip install flask_restful"
   ]
  },
  {
   "cell_type": "code",
   "execution_count": 3,
   "metadata": {},
   "outputs": [],
   "source": [
    "from flask import Flask\n",
    "from flask_restful import Resource, Api, reqparse\n",
    "import pandas as pd\n",
    "import ast"
   ]
  },
  {
   "cell_type": "code",
   "execution_count": 4,
   "metadata": {},
   "outputs": [],
   "source": [
    "app = Flask(__name__)\n",
    "api = Api(app)"
   ]
  },
  {
   "cell_type": "code",
   "execution_count": 5,
   "metadata": {},
   "outputs": [],
   "source": [
    "class Users(Resource):\n",
    "    pass\n",
    "    \n",
    "class Locations(Resource):\n",
    "    pass"
   ]
  },
  {
   "cell_type": "code",
   "execution_count": 6,
   "metadata": {},
   "outputs": [],
   "source": [
    "class Users(Resource):\n",
    "    def get(self):\n",
    "        data = pd.read_csv(\"C:/Users/santy/Desktop/API/users.csv\")\n",
    "        data = data.to_dict()  # convert dataframe to dict\n",
    "        return {'data': data}, 200\n",
    "\n",
    "    def post(self):\n",
    "        parser = reqparse.RequestParser()  # initialize\n",
    "        parser.add_argument('userId', required=True)  # add args\n",
    "        parser.add_argument('name', required=True)\n",
    "        parser.add_argument('city', required=True)\n",
    "        args = parser.parse_args()  # parse arguments to dictionary\n",
    "\n",
    "        # read our CSV\n",
    "        data = pd.read_csv('C:/Users/santy/Desktop/API/users.csv')\n",
    "\n",
    "        if args['userId'] in list(data['userId']):\n",
    "            return {\n",
    "                'message': f\"'{args['userId']}' already exists.\"\n",
    "            }, 409\n",
    "        else:\n",
    "            # create new dataframe for new values\n",
    "            new_data = pd.DataFrame({\n",
    "                'userId': [args['userId']],\n",
    "                'name': [args['name']],\n",
    "                'city': [args['city']],\n",
    "                'locations': [[]]\n",
    "            })\n",
    "            # add the new values\n",
    "            data = data.append(new_data, ignore_index=True)\n",
    "            data.to_csv('C:/Users/santy/Desktop/API/users.csv', index=False)\n",
    "            return {'data': data.to_dict()}, 200\n",
    "    \n",
    "    def put(self):\n",
    "        parser = reqparse.RequestParser()\n",
    "        parser.add_argument('userId', required=True)\n",
    "        parser.add_argument('location', required=True)\n",
    "        args = parser.parse_args()\n",
    "        \n",
    "        #read our data\n",
    "        data = pd.read_csv('C:/Users/santy/Desktop/API/users.csv')\n",
    "        \n",
    "        if args['userId'] in list(data['userId']):\n",
    "            data['locations'] = data['locations'].apply(\n",
    "                lambda x:ast.literal_eval(x)\n",
    "            )\n",
    "            \n",
    "            #select our user\n",
    "            user_data = data[data['userId'] == args['userId']]\n",
    "            #update location\n",
    "            user_data['locations'] = user_data['locations'].values[0] \\\n",
    "                .append(args['location'])\n",
    "        \n",
    "            #write to csv\n",
    "            data.to_csv('C:/Users/santy/Desktop/API/users.csv', index=False)\n",
    "            return {'data': data.to_dict()}, 200\n",
    "        else:\n",
    "            return {'message': f\"'{args['userId']}' user not found.\"}, 404\n",
    "        \n",
    "    def delete(self):\n",
    "        parser = reqparse.RequestParser()\n",
    "        parser.add_argument('userId', required=True)\n",
    "        args = parser.parse_args()\n",
    "        \n",
    "        #reading data\n",
    "        data = pd.read_csv('C:/Users/santy/Desktop/API/users.csv')\n",
    "        \n",
    "        if args['userId'] in list(data['userId']):\n",
    "            data = data[data['userId'] != args['userId']]\n",
    "            \n",
    "            #save to csv\n",
    "            data.to_csv('C:/Users/santy/Desktop/API/users.csv', index=False)\n",
    "            return {'data': data.to_dict()}, 200\n",
    "        else:\n",
    "            return {'message': f\"'{args['userId']}' user not found.\"}, 404\n",
    "\n",
    "class Locations(Resource):\n",
    "    def get(self):\n",
    "        data = pd.read_csv('C:/Users/santy/Desktop/API/users.csv')\n",
    "        return {'data': data.to_dict()}, 200\n",
    "    \n",
    "    def post(self):\n",
    "        parser = reqparse.RequestParser()\n",
    "        parser.add_argument('locationId', required=True, type=int)\n",
    "        parser.add_argument('name', required=True)\n",
    "        parser.add_argument('rating', required=True)\n",
    "        args = parser.parse_args()\n",
    "        \n",
    "        #read data\n",
    "        data = pd.read_csv('C:/Users/santy/Desktop/API/users.csv')\n",
    "        \n",
    "        #check if location already exists\n",
    "        if args['locationId'] in list(data['locationId']):\n",
    "            return {'message':f\"'{args['locationId']}'already exists.\"}, 409\n",
    "        else:\n",
    "            new_data = pd.DataFrame({\n",
    "                'locationId': [args['locationId']],\n",
    "                'name': [args['name']],\n",
    "                'rating': [args['rating']]\n",
    "            })\n",
    "            data = data.append(new_data, ignore_index=True)\n",
    "            data.to_csv('C:/Users/santy/Desktop/API/users.csv', index=False)\n",
    "            return {'data': data.to_dict()}, 200\n",
    "    \n",
    "    def patch(self):\n",
    "        parser = reqparse.RequestParser()\n",
    "        parser.add_argument('locationId', required=True, type=int)\n",
    "        parser.add_argument('name', required=True)\n",
    "        parser.add_argument('rating', required=True)\n",
    "        args = parser.parse_args()\n",
    "        \n",
    "         #read data\n",
    "        data = pd.read_csv('C:/Users/santy/Desktop/API/users.csv')\n",
    "        \n",
    "        #chech location exist already\n",
    "        if args['locationId'] in list(data['locationId']):\n",
    "            user_data = data[data['locationId'] == args['locationId']]\n",
    "        \n",
    "            #update name\n",
    "            if 'name' in args:\n",
    "                user_data['name'] = args['name']\n",
    "        \n",
    "            #update rating\n",
    "            if 'rating' in args:\n",
    "                user_data['rating'] = args['rating']\n",
    "            \n",
    "            #update data\n",
    "            data[data['locationId'] == args['locationId']] = user_data\n",
    "            #save data\n",
    "            data.to_csv('C:/Users/santy/Desktop/API/users.csv', index=False)\n",
    "            return {'data': data.to_dict()},200\n",
    "        else:\n",
    "            return{'message':f\"'{args['locationId']}'location does not exist.\"}, 404\n",
    "    \n",
    "    def delete(self):\n",
    "        parser = reqparse.RequestParse()\n",
    "        parser.add_argument('locationId', required=True, type=int)\n",
    "        args = parser.parse_args()\n",
    "        \n",
    "        #read data\n",
    "        data = pd.read_csv('C:/Users/santy/Desktop/API/users.csv')\n",
    "        \n",
    "        #check location exists already\n",
    "        if args['locationId'] in list(data['locationId']):\n",
    "            #if it exists we delete it\n",
    "            data = data[data['locationId'] != args['locationId']]\n",
    "            #save data\n",
    "            data.to_csv('C:/Users/santy/Desktop/API/users.csv', index=False)\n",
    "            return {'data': data.to_dict()},200\n",
    "        else:\n",
    "            return {'message': f\"'{args['locationId']}' location does not exist.\"}\n",
    "            \n",
    "            "
   ]
  },
  {
   "cell_type": "code",
   "execution_count": 7,
   "metadata": {},
   "outputs": [],
   "source": [
    "api.add_resource(Users, '/users')  # add endpoints\n",
    "api.add_resource(Locations, '/locations')"
   ]
  },
  {
   "cell_type": "code",
   "execution_count": null,
   "metadata": {},
   "outputs": [
    {
     "name": "stdout",
     "output_type": "stream",
     "text": [
      " * Serving Flask app \"__main__\" (lazy loading)\n",
      " * Environment: production\n",
      "\u001b[31m   WARNING: This is a development server. Do not use it in a production deployment.\u001b[0m\n",
      "\u001b[2m   Use a production WSGI server instead.\u001b[0m\n",
      " * Debug mode: off\n"
     ]
    },
    {
     "name": "stderr",
     "output_type": "stream",
     "text": [
      " * Running on http://127.0.0.1:5000/ (Press CTRL+C to quit)\n",
      "127.0.0.1 - - [01/Dec/2021 12:14:28] \"GET / HTTP/1.1\" 404 -\n"
     ]
    }
   ],
   "source": [
    "if __name__ == '__main__':\n",
    "    app.run()  # run our Flask app"
   ]
  },
  {
   "cell_type": "code",
   "execution_count": null,
   "metadata": {},
   "outputs": [],
   "source": []
  },
  {
   "cell_type": "code",
   "execution_count": null,
   "metadata": {},
   "outputs": [],
   "source": []
  }
 ],
 "metadata": {
  "kernelspec": {
   "display_name": "Python 3 (ipykernel)",
   "language": "python",
   "name": "python3"
  },
  "language_info": {
   "codemirror_mode": {
    "name": "ipython",
    "version": 3
   },
   "file_extension": ".py",
   "mimetype": "text/x-python",
   "name": "python",
   "nbconvert_exporter": "python",
   "pygments_lexer": "ipython3",
   "version": "3.7.6"
  }
 },
 "nbformat": 4,
 "nbformat_minor": 4
}
